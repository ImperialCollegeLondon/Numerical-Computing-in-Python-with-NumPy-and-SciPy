{
 "cells": [
  {
   "attachments": {},
   "cell_type": "markdown",
   "metadata": {
    "id": "6qMK3uHIyKGk"
   },
   "source": [
    "# Performance Comparison\n",
    "\n",
    "It's difficult to produce direct performance comparison between NumPy/SciPy implementations of operations and non-NumPy/SciPy implementations because there are typically many ways of carrying out a calculation, particularly when NumPy/SciPy are not being used and particularly for more complex calculations.\n",
    "\n",
    "However, this notebook aims to make a few comparisons where possible as an illustration of how must faster NumPy and SciPy are. Where possible I have tried to use comparable/optimal implementations in non-NumPy/SciPy Python, although it's possible there are better ways."
   ]
  },
  {
   "attachments": {},
   "cell_type": "markdown",
   "metadata": {
    "id": "XBy0rJdCz_EF"
   },
   "source": [
    "## Sequence Creation\n",
    "\n",
    "We can create a few sequences (lists or NumPy arrays) and compare how long it takes for them to be created. Because the native Python implementations are using only simple commands with little actual Python code, this is comparable to the NumPy time, but will produce lists, which are not as functional as NumPy arrays."
   ]
  },
  {
   "cell_type": "code",
   "execution_count": null,
   "metadata": {
    "id": "7LWR_83XyF37"
   },
   "outputs": [
    {
     "name": "stdout",
     "output_type": "stream",
     "text": [
      "Non-NumPy zeroes: 0.06846880912780762\n",
      "NumPy zeroes: 0.02041029930114746\n",
      "Non-NumPy ascending sequence: 0.7871990203857422\n",
      "NumPy ascending sequence: 0.021414518356323242\n"
     ]
    }
   ],
   "source": [
    "import time\n",
    "import numpy as np\n",
    "\n",
    "# Operations will be repeated a large number of times to get a good length of time\n",
    "repetitions = 1000\n",
    "\n",
    "start_time = time.time()\n",
    "for i in range(repetitions):\n",
    "  # Non-NumPy zeroes\n",
    "  a = [0]*100000\n",
    "print('Non-NumPy zeroes:', time.time() - start_time)\n",
    "\n",
    "start_time = time.time()\n",
    "for i in range(repetitions):\n",
    "  # Numpy zeroes\n",
    "  a = np.zeros(100000)\n",
    "print('NumPy zeroes:', time.time() - start_time)\n",
    "\n",
    "start_time = time.time()\n",
    "for i in range(repetitions):\n",
    "  # Non-NumPy ascending sequence\n",
    "  a = list(range(100000))\n",
    "print('Non-NumPy ascending sequence:', time.time() - start_time)\n",
    "\n",
    "start_time = time.time()\n",
    "for i in range(repetitions):\n",
    "  # NumPy ascending sequence\n",
    "  a = np.arange(100000)\n",
    "print('NumPy ascending sequence:', time.time() - start_time)"
   ]
  },
  {
   "attachments": {},
   "cell_type": "markdown",
   "metadata": {
    "id": "OAAMEqVg5yLv"
   },
   "source": [
    "## Dot Product\n",
    "\n",
    "We can compare the time taken to calculate the dot product of two vectors. The NumPy version is significantly quicker and easier to read."
   ]
  },
  {
   "cell_type": "code",
   "execution_count": 5,
   "metadata": {
    "id": "-q458HGx2wsu"
   },
   "outputs": [
    {
     "name": "stdout",
     "output_type": "stream",
     "text": [
      "Non-NumPy dot product: 0.3973982334136963\n",
      "NumPy dot product: 0.004291534423828125\n"
     ]
    }
   ],
   "source": [
    "import time\n",
    "import numpy as np\n",
    "\n",
    "# Repeat the operations a large number of times to get a good length of time\n",
    "repetitions = 1000\n",
    "  \n",
    "# Create the non-NumPy and NumPy arrays to be used\n",
    "a = list(range(10000))\n",
    "b = np.arange(10000)\n",
    "\n",
    "start_time = time.time()\n",
    "for i in range(repetitions):\n",
    "  # Non-NumPy dot product\n",
    "  c = sum(i[0] * i[1] for i in zip(a, a))\n",
    "print('Non-NumPy dot product:', time.time() - start_time)\n",
    "\n",
    "start_time = time.time()\n",
    "for i in range(repetitions):\n",
    "  # Numpy dot product\n",
    "  c = np.dot(b, b)\n",
    "print('NumPy dot product:', time.time() - start_time)"
   ]
  },
  {
   "attachments": {},
   "cell_type": "markdown",
   "metadata": {
    "id": "PSAlIc349bRy"
   },
   "source": [
    "## Log Function\n",
    "\n",
    "We can compare the time taken to calculate the logarithm of a single value or an array of values. When calculating a single value, the function in the ```math``` module is faster - this is because it is specifically designed to calculate the logarithm of a single value, whilst the ```numpy``` version is a more general function which works on arrays of data. As we see when we use it on the array of values later, this makes it faster when calculating the logarithm of an array of values."
   ]
  },
  {
   "cell_type": "code",
   "execution_count": 8,
   "metadata": {
    "id": "QZ9c620r7TDV"
   },
   "outputs": [
    {
     "name": "stdout",
     "output_type": "stream",
     "text": [
      "Non-NumPy single log: 0.051450252532958984\n",
      "NumPy single log: 0.69820237159729\n",
      "Non-NumPy log of list: 0.22849440574645996\n",
      "NumPy log of array: 0.03303098678588867\n"
     ]
    }
   ],
   "source": [
    "import time\n",
    "import math\n",
    "import numpy as np\n",
    "\n",
    "# Repeat the operations a large number of times to get a good length of time\n",
    "repetitions = 1000000\n",
    "  \n",
    "# Create the non-NumPy and NumPy arrays to be used\n",
    "a = list(range(1,  10000))\n",
    "b = np.arange(1, 10000)\n",
    "\n",
    "start_time = time.time()\n",
    "for i in range(repetitions):\n",
    "  # Non-NumPy single log\n",
    "  c = math.log(2)\n",
    "print('Non-NumPy single log:', time.time() - start_time)\n",
    "\n",
    "start_time = time.time()\n",
    "for i in range(repetitions):\n",
    "  #NumPy single log\n",
    "  c = np.log(2)\n",
    "print('NumPy single log:', time.time() - start_time)\n",
    "\n",
    "# Repeat the array operations a smaller number of times\n",
    "repetitions = 1000\n",
    "\n",
    "start_time = time.time()\n",
    "for i in range(repetitions):\n",
    "  # Non-NumPy log of list\n",
    "  c = list(map(math.log, a))\n",
    "print('Non-NumPy log of list:', time.time() - start_time)\n",
    "\n",
    "start_time = time.time()\n",
    "for i in range(repetitions):\n",
    "  #NumPy log of array\n",
    "  c = np.log(b)\n",
    "print('NumPy log of array:', time.time() - start_time)"
   ]
  },
  {
   "attachments": {},
   "cell_type": "markdown",
   "metadata": {
    "id": "bVp87FkcDmeu"
   },
   "source": [
    "## Sinc Function\n",
    "\n",
    "The sinc function is defined as:\n",
    "\n",
    "$f(x) = \\frac{\\sin(\\pi x)}{\\pi x}$\n",
    "\n",
    "There is not a definition in the ```math``` module so we must write our own. Again, SciPy is slower for the single calculation, but much quicker for the calculation on a sequence."
   ]
  },
  {
   "cell_type": "code",
   "execution_count": 11,
   "metadata": {
    "id": "wzybixiy-3F0"
   },
   "outputs": [
    {
     "name": "stdout",
     "output_type": "stream",
     "text": [
      "Non-SciPy single sinc: 0.02415180206298828\n",
      "SciPy single sinc: 0.3493537902832031\n",
      "Non-SciPy sinc of list: 0.10430097579956055\n",
      "SciPy sinc of array: 0.009147405624389648\n"
     ]
    }
   ],
   "source": [
    "import time\n",
    "import math\n",
    "from scipy.special import sinc\n",
    "import numpy as np\n",
    "\n",
    "# Define a non-SciPy sinc\n",
    "def sinc_non_scipy(x):\n",
    "  return math.sin(math.pi * x)/(math.pi * x)\n",
    "\n",
    "\n",
    "# Create the non-NumPy list and NumPy arrays to be used\n",
    "a = [i for i in range(1,  1000)]\n",
    "b = np.arange(1, 1000)\n",
    "\n",
    "# Repeat the operations a large number of times to get a good length of time\n",
    "repetitions = 100000\n",
    "\n",
    "start_time = time.time()\n",
    "for i in range(repetitions):\n",
    "  # Non-SciPy single sinc\n",
    "  c = sinc_non_scipy(1)\n",
    "print('Non-SciPy single sinc:', time.time() - start_time)\n",
    "\n",
    "start_time = time.time()\n",
    "for i in range(repetitions):\n",
    "  #SciPy single sinc\n",
    "  c = sinc(1)\n",
    "print('SciPy single sinc:', time.time() - start_time)\n",
    "\n",
    "# Repeat the array operations a smaller number of times\n",
    "repetitions = 1000\n",
    "\n",
    "start_time = time.time()\n",
    "for i in range(repetitions):\n",
    "  # Non-SciPy sinc of list\n",
    "  c = list(map(sinc_non_scipy, a))\n",
    "print('Non-SciPy sinc of list:', time.time() - start_time)\n",
    "\n",
    "start_time = time.time()\n",
    "for i in range(repetitions):\n",
    "  #SciPy sinc of array\n",
    "  c = sinc(b)\n",
    "print('SciPy sinc of array:', time.time() - start_time)"
   ]
  }
 ],
 "metadata": {
  "colab": {
   "collapsed_sections": [],
   "name": "Performance Comparison.ipynb",
   "provenance": []
  },
  "kernelspec": {
   "display_name": "Python 3",
   "language": "python",
   "name": "python3"
  },
  "language_info": {
   "codemirror_mode": {
    "name": "ipython",
    "version": 3
   },
   "file_extension": ".py",
   "mimetype": "text/x-python",
   "name": "python",
   "nbconvert_exporter": "python",
   "pygments_lexer": "ipython3",
   "version": "3.13.0"
  }
 },
 "nbformat": 4,
 "nbformat_minor": 0
}
